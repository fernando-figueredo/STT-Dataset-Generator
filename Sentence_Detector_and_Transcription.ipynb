{
  "nbformat": 4,
  "nbformat_minor": 0,
  "metadata": {
    "colab": {
      "name": "Sentence Detector and Transcription.ipynb",
      "provenance": [],
      "include_colab_link": true
    },
    "kernelspec": {
      "name": "python3",
      "display_name": "Python 3"
    }
  },
  "cells": [
    {
      "cell_type": "markdown",
      "metadata": {
        "id": "view-in-github",
        "colab_type": "text"
      },
      "source": [
        "<a href=\"https://colab.research.google.com/github/fernando-figueredo/STT-Dataset-Generator/blob/main/Sentence_Detector_and_Transcription.ipynb\" target=\"_parent\"><img src=\"https://colab.research.google.com/assets/colab-badge.svg\" alt=\"Open In Colab\"/></a>"
      ]
    },
    {
      "cell_type": "code",
      "metadata": {
        "id": "wze7BtYxJPrX",
        "outputId": "a47933dc-5e5c-49ad-d693-44c5a4f5a349",
        "colab": {
          "base_uri": "https://localhost:8080/"
        }
      },
      "source": [
        "!pip install pydub\n",
        "!pip install youtube-dl"
      ],
      "execution_count": null,
      "outputs": [
        {
          "output_type": "stream",
          "text": [
            "Collecting pydub\n",
            "  Downloading https://files.pythonhosted.org/packages/7b/d1/fbfa79371a8cd9bb15c2e3c480d7e6e340ed5cc55005174e16f48418333a/pydub-0.24.1-py2.py3-none-any.whl\n",
            "Installing collected packages: pydub\n",
            "Successfully installed pydub-0.24.1\n",
            "Collecting youtube-dl\n",
            "\u001b[?25l  Downloading https://files.pythonhosted.org/packages/89/5e/78523cb106c93370941b5fdd7e6dab58d66d762a1d7fd914eeff8ba2fb03/youtube_dl-2020.11.1.1-py2.py3-none-any.whl (1.8MB)\n",
            "\u001b[K     |████████████████████████████████| 1.8MB 4.2MB/s \n",
            "\u001b[?25hInstalling collected packages: youtube-dl\n",
            "Successfully installed youtube-dl-2020.11.1.1\n"
          ],
          "name": "stdout"
        }
      ]
    },
    {
      "cell_type": "code",
      "metadata": {
        "id": "_VwIUxA5dbTR"
      },
      "source": [
        "from google.colab import drive\n",
        "drive.mount('/content/drive')"
      ],
      "execution_count": null,
      "outputs": []
    },
    {
      "cell_type": "code",
      "metadata": {
        "id": "HJAEp6peklhg",
        "outputId": "86633963-cfd1-4cc4-e49f-de0fb560368e",
        "colab": {
          "base_uri": "https://localhost:8080/",
          "height": 321
        }
      },
      "source": [
        "from IPython.display import YouTubeVideo\n",
        "\n",
        "YOUTUBE_ID = 'WlqqKVyW3L0'\n",
        "YouTubeVideo(YOUTUBE_ID)"
      ],
      "execution_count": null,
      "outputs": [
        {
          "output_type": "execute_result",
          "data": {
            "text/html": [
              "\n",
              "        <iframe\n",
              "            width=\"400\"\n",
              "            height=\"300\"\n",
              "            src=\"https://www.youtube.com/embed/WlqqKVyW3L0\"\n",
              "            frameborder=\"0\"\n",
              "            allowfullscreen\n",
              "        ></iframe>\n",
              "        "
            ],
            "text/plain": [
              "<IPython.lib.display.YouTubeVideo at 0x7f1cd5b87eb8>"
            ],
            "image/jpeg": "[encoded data removed]"
          },
          "metadata": {
            "tags": []
          },
          "execution_count": 3
        }
      ]
    },
    {
      "cell_type": "markdown",
      "metadata": {
        "id": "UMMnuXkrTe4G"
      },
      "source": [
        "**Select the folder where the dataset will be saved**"
      ]
    },
    {
      "cell_type": "code",
      "metadata": {
        "id": "ouClgRllwBGX",
        "outputId": "9f1c0f78-eb32-48d3-eab3-ac5b9a0314f3",
        "colab": {
          "base_uri": "https://localhost:8080/"
        }
      },
      "source": [
        "%cd '/content/drive/My Drive/STTDataset'"
      ],
      "execution_count": null,
      "outputs": [
        {
          "output_type": "stream",
          "text": [
            "/content/drive/My Drive/STTDataset\n"
          ],
          "name": "stdout"
        }
      ]
    },
    {
      "cell_type": "markdown",
      "metadata": {
        "id": "ilHwzNH6Tmga"
      },
      "source": [
        "**Extracting audio from video**"
      ]
    },
    {
      "cell_type": "code",
      "metadata": {
        "id": "9nodDBsRkrs4",
        "outputId": "ee60238d-e514-4163-aa20-2c191016e373",
        "colab": {
          "base_uri": "https://localhost:8080/"
        }
      },
      "source": [
        "!rm -rf *.wav\n",
        "!youtube-dl --extract-audio --audio-format wav --output \"audio.%(ext)s\" https://www.youtube.com/watch\\?v\\={YOUTUBE_ID}"
      ],
      "execution_count": null,
      "outputs": [
        {
          "output_type": "stream",
          "text": [
            "[youtube] WlqqKVyW3L0: Downloading webpage\n",
            "[youtube] WlqqKVyW3L0: Downloading MPD manifest\n",
            "[dashsegments] Total fragments: 6\n",
            "[download] Destination: audio.m4a\n",
            "\u001b[K[download] 100% of 694.25KiB in 00:02\n",
            "[ffmpeg] Correcting container in \"audio.m4a\"\n",
            "[ffmpeg] Destination: audio.wav\n",
            "Deleting original file audio.m4a (pass -k to keep)\n"
          ],
          "name": "stdout"
        }
      ]
    },
    {
      "cell_type": "markdown",
      "metadata": {
        "id": "P5zHAscfU_Na"
      },
      "source": [
        "**Cutting sentences by silence detection**"
      ]
    },
    {
      "cell_type": "code",
      "metadata": {
        "id": "fV82M9DZLhYm",
        "outputId": "f44ef85e-41fb-431a-cc26-b8a911782f4b",
        "colab": {
          "base_uri": "https://localhost:8080/"
        }
      },
      "source": [
        "from pydub import AudioSegment\n",
        "from pydub.silence import split_on_silence\n",
        "\n",
        "\n",
        "# Define a function to normalize a chunk to a target amplitude.\n",
        "def match_target_amplitude(aChunk, target_dBFS):\n",
        "    ''' Normalize given audio chunk '''\n",
        "    change_in_dBFS = target_dBFS - aChunk.dBFS\n",
        "    return aChunk.apply_gain(change_in_dBFS)\n",
        "\n",
        "# Load your audio.  \n",
        "song = AudioSegment.from_wav(\"audio.wav\")\n",
        "\n",
        "\n",
        "chunks = split_on_silence (\n",
        "    # Use the loaded audio.\n",
        "    song, \n",
        "    # Specify that a silent chunk must be at least or 200 ms long.\n",
        "    min_silence_len = 200,\n",
        "    # Consider a chunk silent if it's quieter than -40 dBFS.\n",
        "    silence_thresh = -40\n",
        ")\n",
        "\n",
        "# Process each chunk with your parameters\n",
        "for i, chunk in enumerate(chunks):\n",
        "    # Create a silence chunk that's 0.5 seconds (or 500 ms) long for padding.\n",
        "    silence_chunk = AudioSegment.silent(duration=500)\n",
        "\n",
        "    # Add the padding chunk to beginning and end of the entire chunk.\n",
        "    audio_chunk = silence_chunk + chunk + silence_chunk\n",
        "\n",
        "    # Normalize the entire chunk.\n",
        "    normalized_chunk = match_target_amplitude(audio_chunk, -20.0)\n",
        "\n",
        "    # Export the audio chunk with new bitrate.\n",
        "    print(\"Exporting chunk_{0}.wav\".format(i))\n",
        "    normalized_chunk.export(\n",
        "        \".//chunk_{0}.wav\".format(i),\n",
        "        bitrate = \"64\",\n",
        "        format = \"wav\"\n",
        "    )"
      ],
      "execution_count": null,
      "outputs": [
        {
          "output_type": "stream",
          "text": [
            "Exporting chunk_0.wav\n",
            "Exporting chunk_1.wav\n",
            "Exporting chunk_2.wav\n",
            "Exporting chunk_3.wav\n",
            "Exporting chunk_4.wav\n",
            "Exporting chunk_5.wav\n",
            "Exporting chunk_6.wav\n",
            "Exporting chunk_7.wav\n",
            "Exporting chunk_8.wav\n",
            "Exporting chunk_9.wav\n",
            "Exporting chunk_10.wav\n",
            "Exporting chunk_11.wav\n",
            "Exporting chunk_12.wav\n",
            "Exporting chunk_13.wav\n",
            "Exporting chunk_14.wav\n",
            "Exporting chunk_15.wav\n",
            "Exporting chunk_16.wav\n",
            "Exporting chunk_17.wav\n"
          ],
          "name": "stdout"
        }
      ]
    },
    {
      "cell_type": "markdown",
      "metadata": {
        "id": "2NXk1kJogKt1"
      },
      "source": [
        "**Transcrição do Áudio**"
      ]
    },
    {
      "cell_type": "code",
      "metadata": {
        "id": "xXafB-zlgNnl",
        "outputId": "34a403ad-946d-4c86-8760-35aa1f696e0c",
        "colab": {
          "base_uri": "https://localhost:8080/"
        }
      },
      "source": [
        "!pip install SpeechRecognition\n",
        "!python -m pip install --upgrade pip setuptools wheel"
      ],
      "execution_count": null,
      "outputs": [
        {
          "output_type": "stream",
          "text": [
            "Collecting SpeechRecognition\n",
            "\u001b[?25l  Downloading https://files.pythonhosted.org/packages/26/e1/7f5678cd94ec1234269d23756dbdaa4c8cfaed973412f88ae8adf7893a50/SpeechRecognition-3.8.1-py2.py3-none-any.whl (32.8MB)\n",
            "\u001b[K     |████████████████████████████████| 32.8MB 120kB/s \n",
            "\u001b[?25hInstalling collected packages: SpeechRecognition\n",
            "Successfully installed SpeechRecognition-3.8.1\n",
            "Collecting pip\n",
            "\u001b[?25l  Downloading https://files.pythonhosted.org/packages/cb/28/91f26bd088ce8e22169032100d4260614fc3da435025ff389ef1d396a433/pip-20.2.4-py2.py3-none-any.whl (1.5MB)\n",
            "\u001b[K     |████████████████████████████████| 1.5MB 4.7MB/s \n",
            "\u001b[?25hRequirement already up-to-date: setuptools in /usr/local/lib/python3.6/dist-packages (50.3.2)\n",
            "Requirement already up-to-date: wheel in /usr/local/lib/python3.6/dist-packages (0.35.1)\n",
            "Installing collected packages: pip\n",
            "  Found existing installation: pip 19.3.1\n",
            "    Uninstalling pip-19.3.1:\n",
            "      Successfully uninstalled pip-19.3.1\n",
            "Successfully installed pip-20.2.4\n"
          ],
          "name": "stdout"
        }
      ]
    },
    {
      "cell_type": "code",
      "metadata": {
        "id": "3H9Ing0Wfiaj"
      },
      "source": [
        "import speech_recognition as sr\n",
        "r = sr.Recognizer()\n",
        "\n",
        "transcricao = ''\n",
        "j=0\n",
        "\n",
        "for j in range(i):\n",
        "    file_audio = sr.AudioFile('chunk_'+str(j)+'.wav')\n",
        "    with file_audio as source:\n",
        "      audio_text = r.record(source)\n",
        "    try:\n",
        "      transcricao = (r.recognize_google(audio_text,language='pt-BR'))\n",
        "      file_object = open('transcript.txt', 'a')\n",
        "      file_object.write(transcricao+ '\\n')\n",
        "    except:\n",
        "      file_object = open('transcript.txt', 'a')\n",
        "      file_object.write('\\n') "
      ],
      "execution_count": null,
      "outputs": []
    }
  ]
}